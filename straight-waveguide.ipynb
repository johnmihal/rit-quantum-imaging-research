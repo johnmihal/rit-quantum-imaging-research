{
 "cells": [
  {
   "cell_type": "code",
   "execution_count": 1,
   "metadata": {},
   "outputs": [
    {
     "name": "stderr",
     "output_type": "stream",
     "text": [
      "/Users/JohnMihal/anaconda3/envs/mp/lib/python3.11/site-packages/meep/source.py:592: RuntimeWarning: EigenModeSource component is not ALL_COMPONENTS (the default), which makes it non-unidirectional.\n",
      "  warnings.warn(\n"
     ]
    }
   ],
   "source": [
    "import meep as mp\n",
    "import numpy as np\n",
    "import matplotlib.pyplot as plt\n",
    "from IPython.display import Video\n",
    "\n",
    "\n",
    "resolution = 30 #pixels/micron\n",
    "\n",
    "freq = 1/1.55 # We work typically at 1550 nm wavelength (1.55 micron)\n",
    "sio2 = mp.Medium(index=1.444) # glass surrounding waveguide\n",
    "\n",
    "cell = mp.Vector3(16,8,0)\n",
    "geometry = [mp.Block(mp.Vector3(mp.inf,0.5,mp.inf),\n",
    "                     center=mp.Vector3(),\n",
    "                     material=mp.Medium(epsilon=12))]\n",
    "\n",
    "# sources = [\n",
    "#     mp.EigenModeSource(src=mp.ContinuousSource(frequency=freq, width=20),\n",
    "#         component=mp.Ez,\n",
    "#         center=mp.Vector3(-4,0),\n",
    "#         # direction = mp.X,\n",
    "#         size=mp.Vector3(0,1)                                     \n",
    "#     )\n",
    "# ]\n",
    "\n",
    "# sources = [\n",
    "#     mp.EigenModeSource(\n",
    "#         src=mp.GaussianSource(wavelength=2 * (11**0.5), width=10),\n",
    "#         component=mp.Ez,\n",
    "#         center=mp.Vector3(-7, -3.5),\n",
    "#         size=mp.Vector3(0, 1),\n",
    "#     )\n",
    "# ]\n",
    "\n",
    "n = 3.464\n",
    "th = np.radians(20)\n",
    "\n",
    "k_point = mp.Vector3(freq * n).rotate(mp.Vector3(z=1), th)\n",
    "\n",
    "\n",
    "sources = [\n",
    "    mp.EigenModeSource(\n",
    "        \n",
    "        src=mp.GaussianSource(freq,fwidth=0.2*freq, width=2),\n",
    "            center=mp.Vector3(-6,0),\n",
    "            size=mp.Vector3(0,1),\n",
    "            component=mp.Ez,\n",
    "            direction=mp.NO_DIRECTION,\n",
    "            eig_kpoint= k_point\n",
    "    )\n",
    "]\n",
    "\n",
    "\n",
    "pml_layers = [mp.PML(1.0)]\n",
    "\n"
   ]
  },
  {
   "cell_type": "code",
   "execution_count": 2,
   "metadata": {},
   "outputs": [],
   "source": [
    "sim = mp.Simulation(cell_size=cell,\n",
    "                    boundary_layers=pml_layers,\n",
    "                    geometry=geometry,\n",
    "                    sources=sources,\n",
    "                    resolution=resolution,\n",
    "                    default_material=sio2)\n",
    "\n",
    "fluxEnd = sim.add_mode_monitor(freq, 0, 1, \n",
    "                            mp.ModeRegion(center=mp.Vector3(x=5),size=mp.Vector3(y=1)), \n",
    "                            decimation_factor=0)\n",
    "\n",
    "fluxStart = sim.add_mode_monitor(freq, 0, 1, \n",
    "                            mp.ModeRegion(center=mp.Vector3(x=-3),size=mp.Vector3(y=1)), \n",
    "                            decimation_factor=0)\n",
    "\n"
   ]
  },
  {
   "cell_type": "code",
   "execution_count": 3,
   "metadata": {},
   "outputs": [
    {
     "name": "stdout",
     "output_type": "stream",
     "text": [
      "-----------\n",
      "Initializing structure...\n",
      "time for choose_chunkdivision = 0.000231028 s\n",
      "Working in 2D dimensions.\n",
      "Computational cell is 16 x 8 x 0 with resolution 30\n",
      "     "
     ]
    },
    {
     "name": "stdout",
     "output_type": "stream",
     "text": [
      "block, center = (0,0,0)\n",
      "          size (1e+20,0.5,1e+20)\n",
      "          axes (1,0,0), (0,1,0), (0,0,1)\n",
      "          dielectric constant epsilon diagonal = (12,12,12)\n",
      "time for set_epsilon = 0.117172 s\n",
      "-----------\n",
      "MPB solved for frequency_1(2.10006,0.76436,0) = 0.687148 after 23 iters\n",
      "MPB solved for frequency_1(1.95907,0.713042,0) = 0.645184 after 7 iters\n",
      "MPB solved for frequency_1(1.95899,0.713015,0) = 0.645161 after 3 iters\n",
      "     block, center = (0,0,0)\n",
      "          size (1e+20,0.5,1e+20)\n",
      "          axes (1,0,0), (0,1,0), (0,0,1)\n",
      "          dielectric constant epsilon diagonal = (12,12,12)\n",
      "field decay(t = 50.016666666666666): 2.184395102727238e-05 / 2.184395102727238e-05 = 1.0\n",
      "field decay(t = 100.01666666666667): 0.8526951501313468 / 0.8526951501313468 = 1.0\n",
      "on time step 6840 (time=114), 0.000585184 s/step\n",
      "field decay(t = 150.03333333333333): 0.00024322082668926768 / 0.8526951501313468 = 0.0002852377272836636\n",
      "Normalizing field data...\n",
      "run 0 finished at t = 150.03333333333333 (9002 timesteps)\n"
     ]
    }
   ],
   "source": [
    "f = plt.figure(dpi=150)\n",
    "Animate = mp.Animate2D(fields=mp.Ez, f=f, realtime=False, normalize=True)\n",
    "sim.run(mp.at_every(0.5, Animate), until_after_sources=mp.stop_when_fields_decayed(50, mp.Ez, pt=mp.Vector3(x=5), decay_by=1e-2))\n",
    "plt.close()"
   ]
  },
  {
   "cell_type": "code",
   "execution_count": 4,
   "metadata": {},
   "outputs": [
    {
     "name": "stdout",
     "output_type": "stream",
     "text": [
      "Generating MP4...\n"
     ]
    },
    {
     "data": {
      "text/html": [
       "<video src=\"straight_waveguide.mp4\" controls  >\n",
       "      Your browser does not support the <code>video</code> element.\n",
       "    </video>"
      ],
      "text/plain": [
       "<IPython.core.display.Video object>"
      ]
     },
     "execution_count": 4,
     "metadata": {},
     "output_type": "execute_result"
    }
   ],
   "source": [
    "filename = \"straight_waveguide.mp4\"\n",
    "fps = 10\n",
    "Animate.to_mp4(fps, filename)\n",
    "Video(filename)"
   ]
  },
  {
   "cell_type": "code",
   "execution_count": 5,
   "metadata": {},
   "outputs": [
    {
     "name": "stdout",
     "output_type": "stream",
     "text": [
      "     block, center = (0,0,0)\n",
      "          size (1e+20,0.5,1e+20)\n",
      "          axes (1,0,0), (0,1,0), (0,0,1)\n"
     ]
    },
    {
     "name": "stdout",
     "output_type": "stream",
     "text": [
      "          dielectric constant epsilon diagonal = (12,12,12)\n"
     ]
    },
    {
     "data": {
      "text/plain": [
       "<Axes: xlabel='X', ylabel='Y'>"
      ]
     },
     "execution_count": 5,
     "metadata": {},
     "output_type": "execute_result"
    },
    {
     "data": {
      "image/png": "[encoded data removed]",
      "text/plain": [
       "<Figure size 640x480 with 1 Axes>"
      ]
     },
     "metadata": {},
     "output_type": "display_data"
    }
   ],
   "source": [
    "sim.plot2D(fields=mp.Ez, \n",
    "           field_parameters={'alpha':0.9})"
   ]
  },
  {
   "cell_type": "code",
   "execution_count": 6,
   "metadata": {},
   "outputs": [
    {
     "name": "stdout",
     "output_type": "stream",
     "text": [
      "MPB solved for frequency_1(2.2349,0,0) = 0.683463 after 24 iters\n",
      "MPB solved for frequency_1(2.09819,0,0) = 0.645184 after 7 iters\n",
      "MPB solved for frequency_1(2.09811,0,0) = 0.645161 after 3 iters\n",
      "MPB solved for frequency_1(2.09811,0,0) = 0.645161 after 1 iters\n",
      "Dominant planewave for band 1: (2.098108,-0.000000,0.000000)\n"
     ]
    }
   ],
   "source": [
    "res = sim.get_eigenmode_coefficients(fluxEnd,bands=[1])"
   ]
  },
  {
   "cell_type": "code",
   "execution_count": 7,
   "metadata": {},
   "outputs": [
    {
     "data": {
      "text/plain": [
       "11.79780219134733"
      ]
     },
     "execution_count": 7,
     "metadata": {},
     "output_type": "execute_result"
    }
   ],
   "source": [
    "t = res.alpha[0][0][0]\n",
    "np.abs(t)**2"
   ]
  },
  {
   "cell_type": "code",
   "execution_count": 8,
   "metadata": {},
   "outputs": [
    {
     "data": {
      "text/plain": [
       "[14.916549964902208]"
      ]
     },
     "execution_count": 8,
     "metadata": {},
     "output_type": "execute_result"
    }
   ],
   "source": [
    "mp.get_fluxes(fluxEnd)"
   ]
  },
  {
   "cell_type": "code",
   "execution_count": 9,
   "metadata": {},
   "outputs": [
    {
     "data": {
      "text/plain": [
       "<meep.source.EigenModeSource at 0x16f11ec90>"
      ]
     },
     "execution_count": 9,
     "metadata": {},
     "output_type": "execute_result"
    }
   ],
   "source": [
    "sources[0]"
   ]
  },
  {
   "cell_type": "code",
   "execution_count": 10,
   "metadata": {},
   "outputs": [
    {
     "data": {
      "text/plain": [
       "[14.95016365433124]"
      ]
     },
     "execution_count": 10,
     "metadata": {},
     "output_type": "execute_result"
    }
   ],
   "source": [
    "mp.get_fluxes(fluxStart)\n"
   ]
  }
 ],
 "metadata": {
  "kernelspec": {
   "display_name": "meep",
   "language": "python",
   "name": "python3"
  },
  "language_info": {
   "codemirror_mode": {
    "name": "ipython",
    "version": 3
   },
   "file_extension": ".py",
   "mimetype": "text/x-python",
   "name": "python",
   "nbconvert_exporter": "python",
   "pygments_lexer": "ipython3",
   "version": "3.11.6"
  }
 },
 "nbformat": 4,
 "nbformat_minor": 2
}
