{
 "cells": [
  {
   "cell_type": "code",
   "execution_count": 75,
   "metadata": {},
   "outputs": [
    {
     "name": "stderr",
     "output_type": "stream",
     "text": [
      "/Users/JohnMihal/anaconda3/envs/mp/lib/python3.11/site-packages/meep/source.py:592: RuntimeWarning: EigenModeSource component is not ALL_COMPONENTS (the default), which makes it non-unidirectional.\n",
      "  warnings.warn(\n"
     ]
    }
   ],
   "source": [
    "import meep as mp\n",
    "import numpy as np\n",
    "import matplotlib.pyplot as plt\n",
    "from IPython.display import Video\n",
    "\n",
    "\n",
    "resolution = 30 #pixels/micron\n",
    "\n",
    "freq = 1/1.55 # We work typically at 1550 nm wavelength (1.55 micron)\n",
    "sio2 = mp.Medium(index=1.444) # glass surrounding waveguide\n",
    "\n",
    "cell = mp.Vector3(16,8,0)\n",
    "geometry = [mp.Block(mp.Vector3(mp.inf,0.5,mp.inf),\n",
    "                     center=mp.Vector3(),\n",
    "                     material=mp.Medium(epsilon=12))]\n",
    "\n",
    "# sources = [\n",
    "#     mp.EigenModeSource(src=mp.ContinuousSource(frequency=freq, width=20),\n",
    "#         component=mp.Ez,\n",
    "#         center=mp.Vector3(-4,0),\n",
    "#         # direction = mp.X,\n",
    "#         size=mp.Vector3(0,1)                                     \n",
    "#     )\n",
    "# ]\n",
    "\n",
    "# sources = [\n",
    "#     mp.EigenModeSource(\n",
    "#         src=mp.GaussianSource(wavelength=2 * (11**0.5), width=10),\n",
    "#         component=mp.Ez,\n",
    "#         center=mp.Vector3(-7, -3.5),\n",
    "#         size=mp.Vector3(0, 1),\n",
    "#     )\n",
    "# ]\n",
    "\n",
    "n = 3.464\n",
    "# th = np.radians(20)\n",
    "th = np.radians(0)\n",
    "k_point = mp.Vector3(freq * n).rotate(mp.Vector3(z=1), th)\n",
    "\n",
    "\n",
    "sources = [\n",
    "    mp.EigenModeSource(\n",
    "        \n",
    "        src=mp.GaussianSource(freq,fwidth=0.2*freq, width=2),\n",
    "            center=mp.Vector3(-6,0),\n",
    "            size=mp.Vector3(0,1),\n",
    "            component=mp.Ez,\n",
    "            direction=mp.NO_DIRECTION,\n",
    "            eig_kpoint= k_point\n",
    "    )\n",
    "]\n",
    "\n",
    "\n",
    "pml_layers = [mp.PML(1.0)]\n",
    "\n"
   ]
  },
  {
   "cell_type": "code",
   "execution_count": 76,
   "metadata": {},
   "outputs": [],
   "source": [
    "sim = mp.Simulation(cell_size=cell,\n",
    "                    boundary_layers=pml_layers,\n",
    "                    geometry=geometry,\n",
    "                    sources=sources,\n",
    "                    resolution=resolution,\n",
    "                    default_material=sio2)\n",
    "\n",
    "fluxEnd = sim.add_mode_monitor(freq, 0, 1, \n",
    "                            mp.ModeRegion(center=mp.Vector3(x=5),size=mp.Vector3(y=1)), \n",
    "                            decimation_factor=0)\n",
    "\n",
    "fluxStart = sim.add_mode_monitor(freq, 0, 1, \n",
    "                            mp.ModeRegion(center=mp.Vector3(x=-3),size=mp.Vector3(y=1)), \n",
    "                            decimation_factor=0)\n",
    "\n"
   ]
  },
  {
   "cell_type": "code",
   "execution_count": 77,
   "metadata": {},
   "outputs": [
    {
     "name": "stdout",
     "output_type": "stream",
     "text": [
      "-----------\n",
      "Initializing structure...\n",
      "time for choose_chunkdivision = 0.000175953 s\n",
      "Working in 2D dimensions.\n",
      "Computational cell is 16 x 8 x 0 with resolution 30\n",
      "     block, center = (0,0,0)\n",
      "          size (1e+20,0.5,1e+20)\n",
      "          axes (1,0,0), (0,1,0), (0,0,1)\n",
      "          dielectric constant epsilon diagonal = (12,12,12)\n",
      "time for set_epsilon = 0.115527 s\n",
      "-----------\n",
      "MPB solved for frequency_1(2.23484,0,0) = 0.683444 after 24 iters\n",
      "MPB solved for frequency_1(2.09819,0,0) = 0.645184 after 7 iters\n",
      "MPB solved for frequency_1(2.09811,0,0) = 0.645161 after 3 iters\n",
      "MPB solved for frequency_1(2.09811,0,0) = 0.645161 after 1 iters\n"
     ]
    },
    {
     "data": {
      "application/vnd.jupyter.widget-view+json": {
       "model_id": "516e7e40518149aba33caf02a4ace0ba",
       "version_major": 2,
       "version_minor": 0
      },
      "text/plain": [
       "FloatProgress(value=0.0, description='0% done ', max=50.0)"
      ]
     },
     "metadata": {},
     "output_type": "display_data"
    },
    {
     "name": "stdout",
     "output_type": "stream",
     "text": [
      "run 0 finished at t = 50.0 (3000 timesteps)\n"
     ]
    }
   ],
   "source": [
    "f = plt.figure(dpi=150)\n",
    "Animate = mp.Animate2D(fields=mp.Ez, f=f, realtime=False, normalize=True)\n",
    "sim.run(until = 50)\n",
    "\n",
    "# sim.run(mp.at_every(0.5, Animate), until_after_sources=mp.stop_when_fields_decayed(50, mp.Ez, pt=mp.Vector3(x=5), decay_by=1e-2))\n",
    "plt.close()"
   ]
  },
  {
   "cell_type": "code",
   "execution_count": 78,
   "metadata": {},
   "outputs": [
    {
     "name": "stdout",
     "output_type": "stream",
     "text": [
      "Generating MP4...\n"
     ]
    },
    {
     "data": {
      "text/html": [
       "<video src=\"straight_waveguide.mp4\" controls  >\n",
       "      Your browser does not support the <code>video</code> element.\n",
       "    </video>"
      ],
      "text/plain": [
       "<IPython.core.display.Video object>"
      ]
     },
     "execution_count": 78,
     "metadata": {},
     "output_type": "execute_result"
    }
   ],
   "source": [
    "filename = \"straight_waveguide.mp4\"\n",
    "fps = 10\n",
    "Animate.to_mp4(fps, filename)\n",
    "Video(filename)"
   ]
  },
  {
   "cell_type": "code",
   "execution_count": 79,
   "metadata": {},
   "outputs": [
    {
     "name": "stdout",
     "output_type": "stream",
     "text": [
      "     block, center = (0,0,0)\n",
      "          size (1e+20,0.5,1e+20)\n",
      "          axes (1,0,0), (0,1,0), (0,0,1)\n",
      "          dielectric constant epsilon diagonal = (12,12,12)\n"
     ]
    },
    {
     "data": {
      "text/plain": [
       "<Axes: xlabel='X', ylabel='Y'>"
      ]
     },
     "execution_count": 79,
     "metadata": {},
     "output_type": "execute_result"
    },
    {
     "data": {
      "image/png": "[encoded data removed]",
      "text/plain": [
       "<Figure size 640x480 with 1 Axes>"
      ]
     },
     "metadata": {},
     "output_type": "display_data"
    }
   ],
   "source": [
    "sim.plot2D(fields=mp.Ez, \n",
    "           field_parameters={'alpha':0.9})"
   ]
  },
  {
   "cell_type": "code",
   "execution_count": 80,
   "metadata": {},
   "outputs": [
    {
     "name": "stdout",
     "output_type": "stream",
     "text": [
      "MPB solved for frequency_1(2.2349,0,0) = 0.683463 after 24 iters\n",
      "MPB solved for frequency_1(2.09819,0,0) = 0.645184 after 7 iters\n",
      "MPB solved for frequency_1(2.09811,0,0) = 0.645161 after 3 iters\n",
      "MPB solved for frequency_1(2.09811,0,0) = 0.645161 after 1 iters\n",
      "Dominant planewave for band 1: (2.098108,-0.000000,0.000000)\n",
      "flux: \n",
      "4.545958028461669e-08\n",
      "Res: \n",
      "EigCoeffsResult(alpha=array([[[-4.10421288e-05+2.09225056e-04j,\n",
      "          1.37888483e-05+9.32492369e-06j]]]), vgrp=array([0.27982585]), kpoints=[Vector3<2.0981083209074223, 0.0, 0.0>], kdom=[Vector3<2.0981083209074223, -0.0, 0.0>], cscale=array([0.50001279]))\n"
     ]
    }
   ],
   "source": [
    "res = sim.get_eigenmode_coefficients(fluxEnd,bands=[1])\n",
    "print(\"flux: \")\n",
    "print(abs(res.alpha[0,0,0])**2)\n",
    "print(\"Res: \")\n",
    "print(res)\n",
    "\n",
    "import pickle\n",
    "\n",
    "dbfile = open('examplePickle', 'ab')\n",
    "pickle.dump(res, dbfile)\n",
    "dbfile.close()\n",
    "\n"
   ]
  },
  {
   "cell_type": "code",
   "execution_count": 81,
   "metadata": {},
   "outputs": [
    {
     "name": "stdout",
     "output_type": "stream",
     "text": [
      "t: \n",
      "(-4.10421287812122e-05+0.00020922505574075753j)\n",
      "4.545958028461669e-08\n"
     ]
    }
   ],
   "source": [
    "t = res.alpha[0][0][0]\n",
    "print(\"t: \")\n",
    "print(t)\n",
    "print(abs(t)**2)\n"
   ]
  },
  {
   "cell_type": "code",
   "execution_count": 82,
   "metadata": {},
   "outputs": [
    {
     "data": {
      "text/plain": [
       "[7.108191594698514e-07]"
      ]
     },
     "execution_count": 82,
     "metadata": {},
     "output_type": "execute_result"
    }
   ],
   "source": [
    "mp.get_fluxes(fluxEnd)"
   ]
  },
  {
   "cell_type": "code",
   "execution_count": 83,
   "metadata": {},
   "outputs": [
    {
     "data": {
      "text/plain": [
       "<meep.source.EigenModeSource at 0x17073f690>"
      ]
     },
     "execution_count": 83,
     "metadata": {},
     "output_type": "execute_result"
    }
   ],
   "source": [
    "sources[0]"
   ]
  },
  {
   "cell_type": "code",
   "execution_count": 84,
   "metadata": {},
   "outputs": [
    {
     "name": "stdout",
     "output_type": "stream",
     "text": [
      "Dumped structure to file: sim-dump/structure.h5 (True)\n",
      "Dumped fields to file: sim-dump/fields.h5 (True)\n",
      "creating epsilon from file \"sim-dump/structure.h5\" (1)...\n",
      "creating fields output file \"sim-dump/fields.h5\" (1)...\n"
     ]
    }
   ],
   "source": [
    "sim.dump(\"sim-dump\")\n"
   ]
  },
  {
   "cell_type": "code",
   "execution_count": 85,
   "metadata": {},
   "outputs": [],
   "source": [
    "sim2 = mp.Simulation(cell_size=cell,\n",
    "                    boundary_layers=pml_layers,\n",
    "                    geometry=geometry,\n",
    "                    sources=sources,\n",
    "                    resolution=resolution,\n",
    "                    default_material=sio2)\n",
    "\n",
    "fluxEnd = sim2.add_mode_monitor(freq, 0, 1, \n",
    "                            mp.ModeRegion(center=mp.Vector3(x=5),size=mp.Vector3(y=1)), \n",
    "                            decimation_factor=0)\n",
    "\n",
    "fluxStart = sim2.add_mode_monitor(freq, 0, 1, \n",
    "                            mp.ModeRegion(center=mp.Vector3(x=-3),size=mp.Vector3(y=1)), \n",
    "                            decimation_factor=0)\n",
    "\n",
    "sim2.load(\"sim-dump\")"
   ]
  },
  {
   "cell_type": "code",
   "execution_count": 86,
   "metadata": {},
   "outputs": [
    {
     "name": "stdout",
     "output_type": "stream",
     "text": [
      "     block, center = (0,0,0)\n",
      "          size (1e+20,0.5,1e+20)\n",
      "          axes (1,0,0), (0,1,0), (0,0,1)\n",
      "          dielectric constant epsilon diagonal = (12,12,12)\n",
      "-----------\n",
      "Initializing structure...\n",
      "time for choose_chunkdivision = 0.000161886 s\n",
      "Working in 2D dimensions.\n",
      "Computational cell is 16 x 8 x 0 with resolution 30\n",
      "     block, center = (0,0,0)\n",
      "          size (1e+20,0.5,1e+20)\n",
      "          axes (1,0,0), (0,1,0), (0,0,1)\n",
      "          dielectric constant epsilon diagonal = (12,12,12)\n",
      "time for set_epsilon = 0.115054 s\n",
      "-----------\n",
      "reading epsilon from file \"sim-dump/structure.h5\" (1)...\n",
      "Loaded structure from file: sim-dump/structure.h5 (True)\n",
      "MPB solved for frequency_1(2.23484,0,0) = 0.683444 after 24 iters\n",
      "MPB solved for frequency_1(2.09819,0,0) = 0.645184 after 7 iters\n",
      "MPB solved for frequency_1(2.09811,0,0) = 0.645161 after 3 iters\n",
      "MPB solved for frequency_1(2.09811,0,0) = 0.645161 after 1 iters\n",
      "Loaded fields from file: sim-dump/fields.h5 (True)\n",
      "reading fields from file \"sim-dump/fields.h5\" (1)...\n"
     ]
    },
    {
     "data": {
      "text/plain": [
       "<Axes: xlabel='X', ylabel='Y'>"
      ]
     },
     "execution_count": 86,
     "metadata": {},
     "output_type": "execute_result"
    },
    {
     "data": {
      "image/png": "[encoded data removed]",
      "text/plain": [
       "<Figure size 640x480 with 1 Axes>"
      ]
     },
     "metadata": {},
     "output_type": "display_data"
    }
   ],
   "source": [
    "sim2.plot2D(fields=mp.Ez, \n",
    "           field_parameters={'alpha':0.9})\n",
    "\n",
    "\n"
   ]
  },
  {
   "cell_type": "code",
   "execution_count": 87,
   "metadata": {},
   "outputs": [
    {
     "name": "stdout",
     "output_type": "stream",
     "text": [
      "MPB solved for frequency_1(2.2349,0,0) = 0.683463 after 24 iters\n",
      "MPB solved for frequency_1(2.09819,0,0) = 0.645184 after 7 iters\n",
      "MPB solved for frequency_1(2.09811,0,0) = 0.645161 after 3 iters\n",
      "MPB solved for frequency_1(2.09811,0,0) = 0.645161 after 1 iters\n",
      "Dominant planewave for band 1: (2.098108,-0.000000,0.000000)\n",
      "res: \n",
      "EigCoeffsResult(alpha=array([[[0.+0.j, 0.+0.j]]]), vgrp=array([0.27982585]), kpoints=[Vector3<2.0981083209074227, 0.0, 0.0>], kdom=[Vector3<2.0981083209074227, -0.0, 0.0>], cscale=array([0.50001279]))\n",
      "t squared: \n",
      "0.0\n",
      "get fluxes: \n"
     ]
    },
    {
     "data": {
      "text/plain": [
       "[0.0]"
      ]
     },
     "execution_count": 87,
     "metadata": {},
     "output_type": "execute_result"
    }
   ],
   "source": [
    "res = sim2.get_eigenmode_coefficients(fluxEnd,bands=[1])\n",
    "print(\"res: \")\n",
    "print(res)\n",
    "t = res.alpha[0][0][0]\n",
    "print(\"t squared: \")\n",
    "print(np.abs(t)**2)\n",
    "print(\"get fluxes: \")\n",
    "mp.get_fluxes(fluxEnd)"
   ]
  },
  {
   "cell_type": "code",
   "execution_count": 88,
   "metadata": {},
   "outputs": [
    {
     "data": {
      "application/vnd.jupyter.widget-view+json": {
       "model_id": "76f519f2f9a84e0395f6588125888424",
       "version_major": 2,
       "version_minor": 0
      },
      "text/plain": [
       "FloatProgress(value=50.0, description='0% done ', min=50.0)"
      ]
     },
     "metadata": {},
     "output_type": "display_data"
    },
    {
     "name": "stdout",
     "output_type": "stream",
     "text": [
      "run 1 finished at t = 100.0 (6000 timesteps)\n",
      "     block, center = (0,0,0)\n",
      "          size (1e+20,0.5,1e+20)\n",
      "          axes (1,0,0), (0,1,0), (0,0,1)\n",
      "          dielectric constant epsilon diagonal = (12,12,12)\n"
     ]
    },
    {
     "data": {
      "text/plain": [
       "<Axes: xlabel='X', ylabel='Y'>"
      ]
     },
     "execution_count": 88,
     "metadata": {},
     "output_type": "execute_result"
    },
    {
     "data": {
      "image/png": "[encoded data removed]",
      "text/plain": [
       "<Figure size 640x480 with 1 Axes>"
      ]
     },
     "metadata": {},
     "output_type": "display_data"
    }
   ],
   "source": [
    "sim2.restart_fields()\n",
    "\n",
    "\n",
    "\n",
    "\n",
    "# sim2.plot2D(fields=mp.Ez, \n",
    "#            field_parameters={'alpha':0.9})\n",
    "sim.run(until = 50)\n",
    "sim2.plot2D(fields=mp.Ez, \n",
    "           field_parameters={'alpha':0.9})"
   ]
  }
 ],
 "metadata": {
  "kernelspec": {
   "display_name": "meep",
   "language": "python",
   "name": "python3"
  },
  "language_info": {
   "codemirror_mode": {
    "name": "ipython",
    "version": 3
   },
   "file_extension": ".py",
   "mimetype": "text/x-python",
   "name": "python",
   "nbconvert_exporter": "python",
   "pygments_lexer": "ipython3",
   "version": "3.11.6"
  }
 },
 "nbformat": 4,
 "nbformat_minor": 2
}
