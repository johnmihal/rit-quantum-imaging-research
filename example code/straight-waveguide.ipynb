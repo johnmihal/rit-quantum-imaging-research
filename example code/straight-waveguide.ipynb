{
 "cells": [
  {
   "cell_type": "code",
   "execution_count": 29,
   "metadata": {},
   "outputs": [
    {
     "name": "stderr",
     "output_type": "stream",
     "text": [
      "/Users/JohnMihal/anaconda3/envs/mp/lib/python3.11/site-packages/meep/source.py:592: RuntimeWarning: EigenModeSource component is not ALL_COMPONENTS (the default), which makes it non-unidirectional.\n",
      "  warnings.warn(\n"
     ]
    }
   ],
   "source": [
    "import meep as mp\n",
    "import numpy as np\n",
    "import matplotlib.pyplot as plt\n",
    "from IPython.display import Video\n",
    "\n",
    "\n",
    "resolution = 30 #pixels/micron\n",
    "\n",
    "freq = 1/1.55 # We work typically at 1550 nm wavelength (1.55 micron)\n",
    "sio2 = mp.Medium(index=1.444) # glass surrounding waveguide\n",
    "\n",
    "cell = mp.Vector3(16,8,0)\n",
    "geometry = [mp.Block(mp.Vector3(mp.inf,0.5,mp.inf),\n",
    "                     center=mp.Vector3(),\n",
    "                     material=mp.Medium(epsilon=12))]\n",
    "\n",
    "# sources = [\n",
    "#     mp.EigenModeSource(src=mp.ContinuousSource(frequency=freq, width=20),\n",
    "#         component=mp.Ez,\n",
    "#         center=mp.Vector3(-4,0),\n",
    "#         # direction = mp.X,\n",
    "#         size=mp.Vector3(0,1)                                     \n",
    "#     )\n",
    "# ]\n",
    "\n",
    "# sources = [\n",
    "#     mp.EigenModeSource(\n",
    "#         src=mp.GaussianSource(wavelength=2 * (11**0.5), width=10),\n",
    "#         component=mp.Ez,\n",
    "#         center=mp.Vector3(-7, -3.5),\n",
    "#         size=mp.Vector3(0, 1),\n",
    "#     )\n",
    "# ]\n",
    "\n",
    "n = 3.464\n",
    "# th = np.radians(20)\n",
    "th = np.radians(0)\n",
    "k_point = mp.Vector3(freq * n).rotate(mp.Vector3(z=1), th)\n",
    "\n",
    "\n",
    "sources = [\n",
    "    mp.EigenModeSource(\n",
    "        \n",
    "        src=mp.GaussianSource(freq,fwidth=0.2*freq, width=2),\n",
    "            center=mp.Vector3(-6,0),\n",
    "            size=mp.Vector3(0,1),\n",
    "            component=mp.Ez,\n",
    "            direction=mp.NO_DIRECTION,\n",
    "            eig_kpoint= k_point\n",
    "    )\n",
    "]\n",
    "\n",
    "\n",
    "pml_layers = [mp.PML(1.0)]\n",
    "\n"
   ]
  },
  {
   "cell_type": "code",
   "execution_count": 30,
   "metadata": {},
   "outputs": [],
   "source": [
    "sim = mp.Simulation(cell_size=cell,\n",
    "                    boundary_layers=pml_layers,\n",
    "                    geometry=geometry,\n",
    "                    sources=sources,\n",
    "                    resolution=resolution,\n",
    "                    default_material=sio2)\n",
    "\n",
    "fluxEnd = sim.add_mode_monitor(freq, 0, 1, \n",
    "                            mp.ModeRegion(center=mp.Vector3(x=5),size=mp.Vector3(y=1)), \n",
    "                            decimation_factor=0)\n",
    "\n",
    "fluxStart = sim.add_mode_monitor(freq, 0, 1, \n",
    "                            mp.ModeRegion(center=mp.Vector3(x=-3),size=mp.Vector3(y=1)), \n",
    "                            decimation_factor=0)\n",
    "\n"
   ]
  },
  {
   "cell_type": "code",
   "execution_count": 31,
   "metadata": {},
   "outputs": [
    {
     "name": "stdout",
     "output_type": "stream",
     "text": [
      "-----------\n",
      "Initializing structure...\n",
      "time for choose_chunkdivision = 0.000265121 s\n"
     ]
    },
    {
     "name": "stdout",
     "output_type": "stream",
     "text": [
      "Working in 2D dimensions.\n",
      "Computational cell is 16 x 8 x 0 with resolution 30\n",
      "     block, center = (0,0,0)\n",
      "          size (1e+20,0.5,1e+20)\n",
      "          axes (1,0,0), (0,1,0), (0,0,1)\n",
      "          dielectric constant epsilon diagonal = (12,12,12)\n",
      "time for set_epsilon = 0.115203 s\n",
      "-----------\n",
      "MPB solved for frequency_1(2.23484,0,0) = 0.683444 after 24 iters\n",
      "MPB solved for frequency_1(2.09819,0,0) = 0.645184 after 7 iters\n",
      "MPB solved for frequency_1(2.09811,0,0) = 0.645161 after 3 iters\n",
      "MPB solved for frequency_1(2.09811,0,0) = 0.645161 after 1 iters\n"
     ]
    },
    {
     "data": {
      "application/vnd.jupyter.widget-view+json": {
       "model_id": "4068fa317e2440129603542633665a9f",
       "version_major": 2,
       "version_minor": 0
      },
      "text/plain": [
       "FloatProgress(value=0.0, description='0% done ', max=150.0)"
      ]
     },
     "metadata": {},
     "output_type": "display_data"
    },
    {
     "name": "stdout",
     "output_type": "stream",
     "text": [
      "run 0 finished at t = 150.0 (9000 timesteps)\n"
     ]
    }
   ],
   "source": [
    "f = plt.figure(dpi=150)\n",
    "Animate = mp.Animate2D(fields=mp.Ez, f=f, realtime=False, normalize=True)\n",
    "sim.run(until = 150)\n",
    "\n",
    "# sim.run(mp.at_every(0.5, Animate), until_after_sources=mp.stop_when_fields_decayed(50, mp.Ez, pt=mp.Vector3(x=5), decay_by=1e-2))\n",
    "plt.close()"
   ]
  },
  {
   "cell_type": "code",
   "execution_count": 32,
   "metadata": {},
   "outputs": [
    {
     "name": "stdout",
     "output_type": "stream",
     "text": [
      "Generating MP4...\n"
     ]
    },
    {
     "data": {
      "text/html": [
       "<video src=\"straight_waveguide.mp4\" controls  >\n",
       "      Your browser does not support the <code>video</code> element.\n",
       "    </video>"
      ],
      "text/plain": [
       "<IPython.core.display.Video object>"
      ]
     },
     "execution_count": 32,
     "metadata": {},
     "output_type": "execute_result"
    }
   ],
   "source": [
    "filename = \"straight_waveguide.mp4\"\n",
    "fps = 10\n",
    "Animate.to_mp4(fps, filename)\n",
    "Video(filename)"
   ]
  },
  {
   "cell_type": "code",
   "execution_count": 33,
   "metadata": {},
   "outputs": [
    {
     "name": "stdout",
     "output_type": "stream",
     "text": [
      "     block, center = (0,0,0)\n",
      "          size (1e+20,0.5,1e+20)\n",
      "          axes (1,0,0), (0,1,0), (0,0,1)\n",
      "          dielectric constant epsilon diagonal = (12,12,12)\n"
     ]
    },
    {
     "data": {
      "text/plain": [
       "<Axes: xlabel='X', ylabel='Y'>"
      ]
     },
     "execution_count": 33,
     "metadata": {},
     "output_type": "execute_result"
    },
    {
     "data": {
      "image/png": "[encoded data removed]",
      "text/plain": [
       "<Figure size 640x480 with 1 Axes>"
      ]
     },
     "metadata": {},
     "output_type": "display_data"
    }
   ],
   "source": [
    "sim.plot2D(fields=mp.Ez, \n",
    "           field_parameters={'alpha':0.9})"
   ]
  },
  {
   "cell_type": "code",
   "execution_count": 34,
   "metadata": {},
   "outputs": [
    {
     "name": "stdout",
     "output_type": "stream",
     "text": [
      "MPB solved for frequency_1(2.2349,0,0) = 0.683463 after 24 iters\n",
      "MPB solved for frequency_1(2.09819,0,0) = 0.645184 after 7 iters\n",
      "MPB solved for frequency_1(2.09811,0,0) = 0.645161 after 3 iters\n",
      "MPB solved for frequency_1(2.09811,0,0) = 0.645161 after 1 iters\n",
      "Dominant planewave for band 1: (2.098108,-0.000000,0.000000)\n",
      "flux: \n",
      "15.262227052115426\n",
      "Res: \n",
      "EigCoeffsResult(alpha=array([[[-2.46308832+3.03239558j,  0.0342156 -0.04232735j]]]), vgrp=array([0.27982585]), kpoints=[Vector3<2.0981083209074227, 0.0, 0.0>], kdom=[Vector3<2.0981083209074227, -0.0, 0.0>], cscale=array([0.50001279]))\n"
     ]
    }
   ],
   "source": [
    "res = sim.get_eigenmode_coefficients(fluxStart,bands=[1])\n",
    "print(\"flux: \")\n",
    "print(abs(res.alpha[0,0,0])**2)\n",
    "print(\"Res: \")\n",
    "print(res)\n",
    "\n",
    "import pickle\n",
    "\n",
    "dbfile = open('examplePickle', 'ab')\n",
    "pickle.dump(res, dbfile)\n",
    "dbfile.close()\n",
    "\n"
   ]
  },
  {
   "cell_type": "code",
   "execution_count": 35,
   "metadata": {},
   "outputs": [
    {
     "name": "stdout",
     "output_type": "stream",
     "text": [
      "t: \n",
      "(-2.4630883206055527+3.0323955838597216j)\n",
      "15.262227052115426\n"
     ]
    }
   ],
   "source": [
    "t = res.alpha[0][0][0]\n",
    "print(\"t: \")\n",
    "print(t)\n",
    "print(abs(t)**2)\n"
   ]
  },
  {
   "cell_type": "code",
   "execution_count": 36,
   "metadata": {},
   "outputs": [
    {
     "data": {
      "text/plain": [
       "[15.266747411245742]"
      ]
     },
     "execution_count": 36,
     "metadata": {},
     "output_type": "execute_result"
    }
   ],
   "source": [
    "mp.get_fluxes(fluxStart)"
   ]
  },
  {
   "cell_type": "code",
   "execution_count": 37,
   "metadata": {},
   "outputs": [
    {
     "data": {
      "text/plain": [
       "<meep.source.EigenModeSource at 0x16f6f9690>"
      ]
     },
     "execution_count": 37,
     "metadata": {},
     "output_type": "execute_result"
    }
   ],
   "source": [
    "sources[0]"
   ]
  },
  {
   "cell_type": "code",
   "execution_count": 38,
   "metadata": {},
   "outputs": [
    {
     "name": "stdout",
     "output_type": "stream",
     "text": [
      "Dumped structure to file: sim-dump/structure.h5 (True)creating epsilon from file \"sim-dump/structure.h5\" (1)...\n",
      "\n",
      "Dumped fields to file: sim-dump/fields.h5 (True)\n",
      "creating fields output file \"sim-dump/fields.h5\" (1)...\n"
     ]
    }
   ],
   "source": [
    "sim.dump(\"sim-dump\")\n"
   ]
  },
  {
   "cell_type": "code",
   "execution_count": 39,
   "metadata": {},
   "outputs": [],
   "source": [
    "sim2 = mp.Simulation(cell_size=cell,\n",
    "                    boundary_layers=pml_layers,\n",
    "                    geometry=geometry,\n",
    "                    sources=sources,\n",
    "                    resolution=resolution,\n",
    "                    default_material=sio2)\n",
    "\n",
    "fluxEnd = sim2.add_mode_monitor(freq, 0, 1, \n",
    "                            mp.ModeRegion(center=mp.Vector3(x=5),size=mp.Vector3(y=1)), \n",
    "                            decimation_factor=0)\n",
    "\n",
    "fluxStart = sim2.add_mode_monitor(freq, 0, 1, \n",
    "                            mp.ModeRegion(center=mp.Vector3(x=-3),size=mp.Vector3(y=1)), \n",
    "                            decimation_factor=0)\n",
    "\n",
    "sim2.load(\"sim-dump\")"
   ]
  },
  {
   "cell_type": "code",
   "execution_count": 40,
   "metadata": {},
   "outputs": [
    {
     "name": "stdout",
     "output_type": "stream",
     "text": [
      "     block, center = (0,0,0)\n",
      "          size (1e+20,0.5,1e+20)\n",
      "          axes (1,0,0), (0,1,0), (0,0,1)\n",
      "          dielectric constant epsilon diagonal = (12,12,12)\n",
      "-----------\n",
      "Initializing structure...\n",
      "time for choose_chunkdivision = 0.000166178 s\n",
      "Working in 2D dimensions.\n",
      "Computational cell is 16 x 8 x 0 with resolution 30\n",
      "     block, center = (0,0,0)\n",
      "          size (1e+20,0.5,1e+20)\n",
      "          axes (1,0,0), (0,1,0), (0,0,1)\n",
      "          dielectric constant epsilon diagonal = (12,12,12)\n",
      "time for set_epsilon = 0.113155 s\n",
      "-----------\n",
      "reading epsilon from file \"sim-dump/structure.h5\" (1)...\n",
      "Loaded structure from file: sim-dump/structure.h5 (True)\n",
      "MPB solved for frequency_1(2.23484,0,0) = 0.683444 after 24 iters\n",
      "MPB solved for frequency_1(2.09819,0,0) = 0.645184 after 7 iters\n",
      "MPB solved for frequency_1(2.09811,0,0) = 0.645161 after 3 iters\n",
      "MPB solved for frequency_1(2.09811,0,0) = 0.645161 after 1 iters\n",
      "Loaded fields from file: sim-dump/fields.h5 (True)\n",
      "reading fields from file \"sim-dump/fields.h5\" (1)...\n"
     ]
    },
    {
     "data": {
      "text/plain": [
       "<Axes: xlabel='X', ylabel='Y'>"
      ]
     },
     "execution_count": 40,
     "metadata": {},
     "output_type": "execute_result"
    },
    {
     "data": {
      "image/png": "[encoded data removed]",
      "text/plain": [
       "<Figure size 640x480 with 1 Axes>"
      ]
     },
     "metadata": {},
     "output_type": "display_data"
    }
   ],
   "source": [
    "sim2.plot2D(fields=mp.Ez, \n",
    "           field_parameters={'alpha':0.9})\n",
    "\n",
    "\n"
   ]
  },
  {
   "cell_type": "code",
   "execution_count": 41,
   "metadata": {},
   "outputs": [
    {
     "name": "stdout",
     "output_type": "stream",
     "text": [
      "MPB solved for frequency_1(2.2349,0,0) = 0.683463 after 24 iters\n",
      "MPB solved for frequency_1(2.09819,0,0) = 0.645184 after 7 iters\n",
      "MPB solved for frequency_1(2.09811,0,0) = 0.645161 after 3 iters\n",
      "MPB solved for frequency_1(2.09811,0,0) = 0.645161 after 1 iters\n",
      "Dominant planewave for band 1: (2.098108,-0.000000,0.000000)\n",
      "res: \n",
      "EigCoeffsResult(alpha=array([[[0.+0.j, 0.+0.j]]]), vgrp=array([0.27982585]), kpoints=[Vector3<2.0981083209074227, 0.0, 0.0>], kdom=[Vector3<2.0981083209074227, -0.0, 0.0>], cscale=array([0.50001279]))\n",
      "t squared: \n",
      "0.0\n",
      "get fluxes: \n"
     ]
    },
    {
     "data": {
      "text/plain": [
       "[0.0]"
      ]
     },
     "execution_count": 41,
     "metadata": {},
     "output_type": "execute_result"
    }
   ],
   "source": [
    "res = sim2.get_eigenmode_coefficients(fluxEnd,bands=[1])\n",
    "print(\"res: \")\n",
    "print(res)\n",
    "t = res.alpha[0][0][0]\n",
    "print(\"t squared: \")\n",
    "print(np.abs(t)**2)\n",
    "print(\"get fluxes: \")\n",
    "mp.get_fluxes(fluxEnd)"
   ]
  },
  {
   "cell_type": "code",
   "execution_count": 42,
   "metadata": {},
   "outputs": [
    {
     "data": {
      "application/vnd.jupyter.widget-view+json": {
       "model_id": "78bb3c2cba74437696dbbfd66eab267b",
       "version_major": 2,
       "version_minor": 0
      },
      "text/plain": [
       "FloatProgress(value=150.0, description='0% done ', max=200.0, min=150.0)"
      ]
     },
     "metadata": {},
     "output_type": "display_data"
    },
    {
     "name": "stdout",
     "output_type": "stream",
     "text": [
      "on time step 9000 (time=150), 0.000481989 s/step\n",
      "run 1 finished at t = 200.0 (12000 timesteps)\n",
      "     block, center = (0,0,0)\n",
      "          size (1e+20,0.5,1e+20)\n",
      "          axes (1,0,0), (0,1,0), (0,0,1)\n",
      "          dielectric constant epsilon diagonal = (12,12,12)\n"
     ]
    },
    {
     "data": {
      "text/plain": [
       "<Axes: xlabel='X', ylabel='Y'>"
      ]
     },
     "execution_count": 42,
     "metadata": {},
     "output_type": "execute_result"
    },
    {
     "data": {
      "image/png": "[encoded data removed]",
      "text/plain": [
       "<Figure size 640x480 with 1 Axes>"
      ]
     },
     "metadata": {},
     "output_type": "display_data"
    }
   ],
   "source": [
    "sim2.restart_fields()\n",
    "\n",
    "\n",
    "\n",
    "\n",
    "# sim2.plot2D(fields=mp.Ez, \n",
    "#            field_parameters={'alpha':0.9})\n",
    "sim.run(until = 50)\n",
    "sim2.plot2D(fields=mp.Ez, \n",
    "           field_parameters={'alpha':0.9})"
   ]
  }
 ],
 "metadata": {
  "kernelspec": {
   "display_name": "meep",
   "language": "python",
   "name": "python3"
  },
  "language_info": {
   "codemirror_mode": {
    "name": "ipython",
    "version": 3
   },
   "file_extension": ".py",
   "mimetype": "text/x-python",
   "name": "python",
   "nbconvert_exporter": "python",
   "pygments_lexer": "ipython3",
   "version": "3.11.6"
  }
 },
 "nbformat": 4,
 "nbformat_minor": 2
}
