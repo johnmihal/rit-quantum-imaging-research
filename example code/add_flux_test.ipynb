{
 "cells": [
  {
   "cell_type": "code",
   "execution_count": 2,
   "metadata": {},
   "outputs": [
    {
     "ename": "AttributeError",
     "evalue": "'Simulation' object has no attribute 'EigenModeSource'",
     "output_type": "error",
     "traceback": [
      "\u001b[0;31m---------------------------------------------------------------------------\u001b[0m",
      "\u001b[0;31mAttributeError\u001b[0m                            Traceback (most recent call last)",
      "Cell \u001b[0;32mIn[2], line 22\u001b[0m\n\u001b[1;32m     20\u001b[0m \u001b[38;5;66;03m# Define eigenmode source\u001b[39;00m\n\u001b[1;32m     21\u001b[0m source_frequency \u001b[38;5;241m=\u001b[39m \u001b[38;5;241m0.15\u001b[39m  \u001b[38;5;66;03m# Adjust as needed\u001b[39;00m\n\u001b[0;32m---> 22\u001b[0m eigen_source \u001b[38;5;241m=\u001b[39m \u001b[43msim\u001b[49m\u001b[38;5;241;43m.\u001b[39;49m\u001b[43mEigenModeSource\u001b[49m(\n\u001b[1;32m     23\u001b[0m     frequency\u001b[38;5;241m=\u001b[39msource_frequency,\n\u001b[1;32m     24\u001b[0m     center\u001b[38;5;241m=\u001b[39mmp\u001b[38;5;241m.\u001b[39mVector3(\u001b[38;5;241m0\u001b[39m, \u001b[38;5;241m0\u001b[39m, \u001b[38;5;241m0\u001b[39m),\n\u001b[1;32m     25\u001b[0m     size\u001b[38;5;241m=\u001b[39mmp\u001b[38;5;241m.\u001b[39mVector3(\u001b[38;5;241m0\u001b[39m, \u001b[38;5;241m0\u001b[39m, \u001b[38;5;241m0\u001b[39m),\n\u001b[1;32m     26\u001b[0m     direction\u001b[38;5;241m=\u001b[39mmp\u001b[38;5;241m.\u001b[39mNO_DIRECTION,\n\u001b[1;32m     27\u001b[0m     eig_band\u001b[38;5;241m=\u001b[39m\u001b[38;5;241m1\u001b[39m,\n\u001b[1;32m     28\u001b[0m )\n\u001b[1;32m     30\u001b[0m \u001b[38;5;66;03m# # Define flux regions at the start and end of the waveguide\u001b[39;00m\n\u001b[1;32m     31\u001b[0m \u001b[38;5;66;03m# flux_start = sim.add_flux(source_frequency, mp.FluxRegion(center=mp.Vector3(-6, 0, 0), size=mp.Vector3(0, 2, 0)))\u001b[39;00m\n\u001b[1;32m     32\u001b[0m \u001b[38;5;66;03m# flux_end = sim.add_flux(source_frequency, mp.FluxRegion(center=mp.Vector3(6, 0, 0), size=mp.Vector3(0, 2, 0)))\u001b[39;00m\n\u001b[1;32m     33\u001b[0m \n\u001b[1;32m     34\u001b[0m \u001b[38;5;66;03m# Run the simulation\u001b[39;00m\n\u001b[1;32m     35\u001b[0m sim\u001b[38;5;241m.\u001b[39mrun(until\u001b[38;5;241m=\u001b[39m\u001b[38;5;241m200\u001b[39m)\n",
      "\u001b[0;31mAttributeError\u001b[0m: 'Simulation' object has no attribute 'EigenModeSource'"
     ]
    }
   ],
   "source": [
    "import meep as mp\n",
    "\n",
    "# Define simulation parameters\n",
    "cell_size = mp.Vector3(16, 8, 0)\n",
    "resolution = 20\n",
    "\n",
    "# Create a simulation object\n",
    "sim = mp.Simulation(\n",
    "    cell_size=cell_size,\n",
    "    resolution=resolution,\n",
    "    boundary_layers=[mp.PML(1.0)],\n",
    "    geometry=[],\n",
    ")\n",
    "\n",
    "# Define SiO2 waveguide geometry\n",
    "waveguide_material = mp.Medium(index=1.44)  # Refractive index of SiO2\n",
    "waveguide_geometry = [mp.Block(mp.Vector3(mp.inf, 1, mp.inf), center=mp.Vector3(0, 0, 0), material=waveguide_material)]\n",
    "sim.geometry = waveguide_geometry\n",
    "\n",
    "# Define eigenmode source\n",
    "source_frequency = 0.15  # Adjust as needed\n",
    "eigen_source = sim.EigenModeSource(\n",
    "    frequency=source_frequency,\n",
    "    center=mp.Vector3(0, 0, 0),\n",
    "    size=mp.Vector3(0, 0, 0),\n",
    "    direction=mp.NO_DIRECTION,\n",
    "    eig_band=1,\n",
    ")\n",
    "\n",
    "# # Define flux regions at the start and end of the waveguide\n",
    "# flux_start = sim.add_flux(source_frequency, mp.FluxRegion(center=mp.Vector3(-6, 0, 0), size=mp.Vector3(0, 2, 0)))\n",
    "# flux_end = sim.add_flux(source_frequency, mp.FluxRegion(center=mp.Vector3(6, 0, 0), size=mp.Vector3(0, 2, 0)))\n",
    "\n",
    "# Run the simulation\n",
    "sim.run(until=200)\n",
    "\n",
    "# # Retrieve flux data at the start and end\n",
    "# flux_start_data = sim.get_flux_data(flux_start)\n",
    "# flux_end_data = sim.get_flux_data(flux_end)\n",
    "\n",
    "# # Print the results\n",
    "# print(\"Flux at the start:\", flux_start_data.flux)\n",
    "# print(\"Flux at the end:\", flux_end_data.flux)\n"
   ]
  }
 ],
 "metadata": {
  "kernelspec": {
   "display_name": "mp",
   "language": "python",
   "name": "python3"
  },
  "language_info": {
   "codemirror_mode": {
    "name": "ipython",
    "version": 3
   },
   "file_extension": ".py",
   "mimetype": "text/x-python",
   "name": "python",
   "nbconvert_exporter": "python",
   "pygments_lexer": "ipython3",
   "version": "3.11.6"
  }
 },
 "nbformat": 4,
 "nbformat_minor": 2
}
