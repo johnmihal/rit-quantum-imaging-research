{
 "cells": [
  {
   "cell_type": "code",
   "execution_count": null,
   "id": "b573ef86",
   "metadata": {},
   "outputs": [],
   "source": [
    "import numpy as np\n",
    "import matplotlib as mpl\n",
    "import matplotlib.pyplot as plt\n",
    "\n",
    "# FDTD Library is open source MEEP\n",
    "# https://meep.readthedocs.io/en/latest/\n",
    "\n",
    "import meep as mp\n",
    "#from meep.materials import SiO2, Si\n",
    "\n",
    "%matplotlib widget"
   ]
  },
  {
   "attachments": {},
   "cell_type": "markdown",
   "id": "632b1986",
   "metadata": {},
   "source": [
    "### Simulation Settings"
   ]
  },
  {
   "cell_type": "code",
   "execution_count": null,
   "id": "207fd61b",
   "metadata": {},
   "outputs": [],
   "source": [
    "\n",
    "# To understand MEEP units see https://meep.readthedocs.io/en/latest/Introduction/#units-in-meep\n",
    "wavelength = 1.55 # wavelength can have arbitrary length units (we choose um)\n",
    "f = 1/wavelength # Frequency is defined in \"natural units\" as (1 um)/wavelength\n",
    "\n",
    "l,w,z = [100,75,0] # length,width,height of the simulation region (um)\n",
    "r = 30 # Star Coupler Radius (um)\n",
    "h = 25 # Star Coupler Height (um) (this gives the flat top/bottom if desired)\n",
    "\n",
    "waveguide_width = 0.5 # width of Si waveguide (um)\n",
    "nguides_p = 10 # number of input waveguides above center (total numper is 2*nguides_p+1)\n",
    "nangles = np.arange(-nguides_p,nguides_p+1,1) \n",
    "\n",
    "amplitudes = np.ones(len(nangles),dtype=complex) # amplitude/phase shift for each sources\n",
    "\n",
    "## For tilted input\n",
    "# amplitudes = np.zeros(len(nangles),dtype=complex) # amplitude/phase shift for each sources\n",
    "# dl = 2*np.pi/len(nangles)\n",
    "# for n in range(len(nangles)):\n",
    "#     amplitudes[n]=np.exp(-1j*n)\n",
    "\n",
    "\n",
    "y_guide_size = 1.5 # width of eigenmode source (needs to enclose waveguide)\n",
    "dr = 10 # srces are placed at distance r+dr from confocal point\n",
    "\n",
    "neff = 2.44 # Effective slab index from Lumerical simulation\n",
    "#neff = 2.85\n",
    "\n",
    "res = 30 # sim resolution (pixels/um)"
   ]
  },
  {
   "attachments": {},
   "cell_type": "markdown",
   "id": "3faafbeb",
   "metadata": {},
   "source": [
    "### Create simulation region and define media"
   ]
  },
  {
   "cell_type": "code",
   "execution_count": null,
   "id": "1a930128",
   "metadata": {},
   "outputs": [],
   "source": [
    "# Define Simulation Cell\n",
    "# All length units are microns\n",
    "cell = mp.Vector3(l,w,z)\n",
    "\n",
    "si = mp.Medium(epsilon=12)\n",
    "sio2 = mp.Medium(index=1.444)"
   ]
  },
  {
   "attachments": {},
   "cell_type": "markdown",
   "id": "19ebbbd1",
   "metadata": {},
   "source": [
    "### Create Starcoupler Region as MP Material Grid"
   ]
  },
  {
   "cell_type": "code",
   "execution_count": null,
   "id": "5c9db8c7",
   "metadata": {},
   "outputs": [],
   "source": [
    "x = np.arange(-r,r,1/res)\n",
    "y = np.arange(-1.5*h/2,1.5*h/2,1/res)\n",
    "xx,yy = np.meshgrid(x,y)\n",
    "\n",
    "c1 = ((xx-r/2)**2 + yy**2 < r**2) # First circle with radius r\n",
    "c2 = ((xx+r/2)**2 + yy**2 < r**2) # Second circle with radius r\n",
    "b = (yy<h/2) & (yy>-h/2) # Rectangle allowing top/bottom cutoff\n",
    "\n",
    "sc = c1 & c2 & b # star coupler shape comes from logical-AND all 3 shapes\n",
    "\n",
    "star_grid = mp.MaterialGrid([len(x),len(y),0],\n",
    "                           medium1 = sio2,\n",
    "                           medium2 = si,\n",
    "                           weights = sc.transpose())\n",
    "\n",
    "star_block = mp.Block(size=mp.Vector3(x[-1]-x[0],y[-1]-y[0],0),material=star_grid)\n"
   ]
  },
  {
   "attachments": {},
   "cell_type": "markdown",
   "id": "eac144f8",
   "metadata": {},
   "source": [
    "### Create Input and Output Waveguides"
   ]
  },
  {
   "cell_type": "code",
   "execution_count": null,
   "id": "53d0998a",
   "metadata": {},
   "outputs": [],
   "source": [
    "rot_angles = [np.arcsin(i*np.sqrt((1.55)/(r*len(nangles)*neff))) for i in nangles]\n",
    "\n",
    "def make_waveguide(th,l,r):\n",
    "    wg = mp.Block(mp.Vector3(np.abs(l),waveguide_width,mp.inf),\n",
    "                     center=mp.Vector3(0,0),\n",
    "                     e1=mp.Vector3(x=1).rotate(mp.Vector3(z=1), th),\n",
    "                     e2=mp.Vector3(y=1).rotate(mp.Vector3(z=1), th),\n",
    "                     material=si)\n",
    "    \n",
    "    wg = wg.shift(mp.Vector3(x=r/2-l*np.cos(th)/2,y=-l*np.sin(th)/2))\n",
    "    return wg\n",
    "\n",
    "input_waveguides = [make_waveguide(th,l,r) for th in rot_angles]\n",
    "output_waveguides = [make_waveguide(th,-l,-r) for th in rot_angles]"
   ]
  },
  {
   "attachments": {},
   "cell_type": "markdown",
   "id": "5f9c2a58",
   "metadata": {},
   "source": [
    "### Add Eigenmode Sources"
   ]
  },
  {
   "cell_type": "code",
   "execution_count": null,
   "id": "6398bbc8",
   "metadata": {},
   "outputs": [],
   "source": [
    "\n",
    "def wg_eig_src(r,dr,th,ysize=1,freq=f,bd=1,amp=1.0):\n",
    "    eig_src = mp.EigenModeSource(src=mp.ContinuousSource(frequency=freq),\n",
    "                                 size=mp.Vector3(y=ysize),\n",
    "                                 direction=mp.NO_DIRECTION,\n",
    "                                 eig_kpoint=mp.Vector3(x=1).rotate(mp.Vector3(z=1),-th),\n",
    "                                 center=mp.Vector3(-(r+dr)*np.cos(th)+r/2,(r+dr)*np.sin(th),0),\n",
    "                                 eig_band = bd,\n",
    "                                 eig_parity=mp.ODD_Z,\n",
    "                                 eig_match_freq=True,\n",
    "                                 amplitude=amp)\n",
    "    return eig_src\n",
    "\n",
    "# Adds an eigenmode source for each input waveguide -- can get a source's amplitude to 0 to turn it off\n",
    "sources = [wg_eig_src(r,dr,s,ysize=y_guide_size,amp=a) for (s,a) in zip(rot_angles,amplitudes)]\n",
    "\n"
   ]
  },
  {
   "attachments": {},
   "cell_type": "markdown",
   "id": "5c6246a6",
   "metadata": {},
   "source": [
    "### Create Simulation Object"
   ]
  },
  {
   "cell_type": "code",
   "execution_count": null,
   "id": "9ccc2dcb",
   "metadata": {},
   "outputs": [],
   "source": [
    "sim = mp.Simulation(resolution = res,\n",
    "                    cell_size = cell,\n",
    "                    default_material=sio2,\n",
    "                    geometry = [star_block] + output_waveguides + input_waveguides,\n",
    "                    sources=sources,\n",
    "                    boundary_layers=[mp.PML(2.0)],\n",
    "                    symmetries=[])"
   ]
  },
  {
   "attachments": {},
   "cell_type": "markdown",
   "id": "2435b4c2",
   "metadata": {},
   "source": [
    "### Initialize Simulation"
   ]
  },
  {
   "cell_type": "code",
   "execution_count": null,
   "id": "b4fa86ab",
   "metadata": {},
   "outputs": [],
   "source": [
    "# Separating the initialization call from the run call allows the option of viewing the simulation geometry/index before running the simulation\n",
    "sim.init_sim()"
   ]
  },
  {
   "attachments": {},
   "cell_type": "markdown",
   "id": "7e0a960f",
   "metadata": {},
   "source": [
    "### Run Simulation"
   ]
  },
  {
   "cell_type": "code",
   "execution_count": null,
   "id": "1138e6c6",
   "metadata": {},
   "outputs": [],
   "source": [
    "sim.run(until=300)"
   ]
  },
  {
   "attachments": {},
   "cell_type": "markdown",
   "id": "03bfc563",
   "metadata": {},
   "source": [
    "### Visualize E-field"
   ]
  },
  {
   "cell_type": "code",
   "execution_count": null,
   "id": "df9e3ac0",
   "metadata": {},
   "outputs": [],
   "source": [
    "f1,ax1 = plt.subplots()\n",
    "\n",
    "sim.plot2D(ax=ax1,output_plane=mp.Volume(center=mp.Vector3(), size=mp.Vector3(l,w,0)),\n",
    "               fields=mp.Ez,\n",
    "               field_parameters={'alpha':0.9})"
   ]
  },
  {
   "cell_type": "code",
   "execution_count": null,
   "id": "7259d1a8",
   "metadata": {},
   "outputs": [],
   "source": []
  }
 ],
 "metadata": {
  "kernelspec": {
   "display_name": "mp_x86",
   "language": "python",
   "name": "python3"
  },
  "language_info": {
   "codemirror_mode": {
    "name": "ipython",
    "version": 3
   },
   "file_extension": ".py",
   "mimetype": "text/x-python",
   "name": "python",
   "nbconvert_exporter": "python",
   "pygments_lexer": "ipython3",
   "version": "3.11.6"
  }
 },
 "nbformat": 4,
 "nbformat_minor": 5
}
